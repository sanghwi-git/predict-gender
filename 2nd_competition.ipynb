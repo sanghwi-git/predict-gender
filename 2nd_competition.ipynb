{
 "cells": [
  {
   "cell_type": "code",
   "execution_count": 1,
   "metadata": {},
   "outputs": [],
   "source": [
    "import pandas as pd\n",
    "import numpy as np\n",
    "from tqdm import tqdm, tqdm_notebook\n",
    "import matplotlib.pyplot as plt\n",
    "%matplotlib inline\n",
    "\n",
    "pd.set_option('max_columns', 30, 'max_rows', 30)"
   ]
  },
  {
   "cell_type": "code",
   "execution_count": 2,
   "metadata": {},
   "outputs": [],
   "source": [
    "train = pd.read_csv('boaz_train_0819.csv',encoding='cp949')\n",
    "test = pd.read_csv('boaz_test_0819.csv',encoding='cp949')\n",
    "y_train = pd.read_csv('boaz_y_0819.csv',encoding='cp949')"
   ]
  },
  {
   "cell_type": "code",
   "execution_count": 3,
   "metadata": {},
   "outputs": [],
   "source": [
    "data = pd.concat([train, test], axis=0)"
   ]
  },
  {
   "cell_type": "code",
   "execution_count": 8,
   "metadata": {},
   "outputs": [
    {
     "data": {
      "text/html": [
       "<div>\n",
       "<style scoped>\n",
       "    .dataframe tbody tr th:only-of-type {\n",
       "        vertical-align: middle;\n",
       "    }\n",
       "\n",
       "    .dataframe tbody tr th {\n",
       "        vertical-align: top;\n",
       "    }\n",
       "\n",
       "    .dataframe thead th {\n",
       "        text-align: right;\n",
       "    }\n",
       "</style>\n",
       "<table border=\"1\" class=\"dataframe\">\n",
       "  <thead>\n",
       "    <tr style=\"text-align: right;\">\n",
       "      <th></th>\n",
       "      <th>custid</th>\n",
       "      <th>sales_date</th>\n",
       "      <th>sales_time</th>\n",
       "      <th>str_nm</th>\n",
       "      <th>goodcd</th>\n",
       "      <th>brd_nm</th>\n",
       "      <th>corner_nm</th>\n",
       "      <th>pc_nm</th>\n",
       "      <th>part_nm</th>\n",
       "      <th>team_nm</th>\n",
       "      <th>buyer_nm</th>\n",
       "      <th>import_flg</th>\n",
       "      <th>tot_amt</th>\n",
       "      <th>dis_amt</th>\n",
       "      <th>net_amt</th>\n",
       "      <th>inst_mon</th>\n",
       "      <th>inst_fee</th>\n",
       "    </tr>\n",
       "  </thead>\n",
       "  <tbody>\n",
       "    <tr>\n",
       "      <th>0</th>\n",
       "      <td>0</td>\n",
       "      <td>2000-06-25 00:00:00</td>\n",
       "      <td>1212</td>\n",
       "      <td>무역점</td>\n",
       "      <td>2116050008000</td>\n",
       "      <td>에스티로더</td>\n",
       "      <td>수입종합화장품</td>\n",
       "      <td>화장품</td>\n",
       "      <td>명품잡화</td>\n",
       "      <td>잡화가용팀</td>\n",
       "      <td>화장품</td>\n",
       "      <td>1</td>\n",
       "      <td>90000</td>\n",
       "      <td>9000</td>\n",
       "      <td>81000</td>\n",
       "      <td>3</td>\n",
       "      <td>0</td>\n",
       "    </tr>\n",
       "    <tr>\n",
       "      <th>1</th>\n",
       "      <td>0</td>\n",
       "      <td>2000-06-25 00:00:00</td>\n",
       "      <td>1242</td>\n",
       "      <td>무역점</td>\n",
       "      <td>4125440008000</td>\n",
       "      <td>시슬리</td>\n",
       "      <td>수입종합화장품</td>\n",
       "      <td>화장품</td>\n",
       "      <td>명품잡화</td>\n",
       "      <td>잡화가용팀</td>\n",
       "      <td>화장품</td>\n",
       "      <td>1</td>\n",
       "      <td>39000</td>\n",
       "      <td>3900</td>\n",
       "      <td>35100</td>\n",
       "      <td>1</td>\n",
       "      <td>0</td>\n",
       "    </tr>\n",
       "    <tr>\n",
       "      <th>2</th>\n",
       "      <td>0</td>\n",
       "      <td>2000-08-26 00:00:00</td>\n",
       "      <td>1810</td>\n",
       "      <td>본점</td>\n",
       "      <td>2116052008000</td>\n",
       "      <td>크리니크</td>\n",
       "      <td>수입종합화장품</td>\n",
       "      <td>화장품</td>\n",
       "      <td>잡화파트</td>\n",
       "      <td>잡화가용팀</td>\n",
       "      <td>화장품</td>\n",
       "      <td>1</td>\n",
       "      <td>175000</td>\n",
       "      <td>17500</td>\n",
       "      <td>157500</td>\n",
       "      <td>3</td>\n",
       "      <td>0</td>\n",
       "    </tr>\n",
       "    <tr>\n",
       "      <th>3</th>\n",
       "      <td>0</td>\n",
       "      <td>2000-08-26 00:00:00</td>\n",
       "      <td>1830</td>\n",
       "      <td>본점</td>\n",
       "      <td>4106430119900</td>\n",
       "      <td>듀퐁</td>\n",
       "      <td>수입의류</td>\n",
       "      <td>명품토탈</td>\n",
       "      <td>잡화파트</td>\n",
       "      <td>잡화가용팀</td>\n",
       "      <td>수입명품</td>\n",
       "      <td>1</td>\n",
       "      <td>455000</td>\n",
       "      <td>45500</td>\n",
       "      <td>409500</td>\n",
       "      <td>3</td>\n",
       "      <td>0</td>\n",
       "    </tr>\n",
       "    <tr>\n",
       "      <th>4</th>\n",
       "      <td>0</td>\n",
       "      <td>2000-09-03 00:00:00</td>\n",
       "      <td>1802</td>\n",
       "      <td>무역점</td>\n",
       "      <td>2139141008000</td>\n",
       "      <td>랑콤</td>\n",
       "      <td>수입종합화장품</td>\n",
       "      <td>화장품</td>\n",
       "      <td>명품잡화</td>\n",
       "      <td>잡화가용팀</td>\n",
       "      <td>화장품</td>\n",
       "      <td>0</td>\n",
       "      <td>100000</td>\n",
       "      <td>10000</td>\n",
       "      <td>90000</td>\n",
       "      <td>3</td>\n",
       "      <td>0</td>\n",
       "    </tr>\n",
       "  </tbody>\n",
       "</table>\n",
       "</div>"
      ],
      "text/plain": [
       "   custid           sales_date  sales_time str_nm         goodcd brd_nm  \\\n",
       "0       0  2000-06-25 00:00:00        1212    무역점  2116050008000  에스티로더   \n",
       "1       0  2000-06-25 00:00:00        1242    무역점  4125440008000    시슬리   \n",
       "2       0  2000-08-26 00:00:00        1810     본점  2116052008000   크리니크   \n",
       "3       0  2000-08-26 00:00:00        1830     본점  4106430119900     듀퐁   \n",
       "4       0  2000-09-03 00:00:00        1802    무역점  2139141008000     랑콤   \n",
       "\n",
       "  corner_nm pc_nm part_nm team_nm buyer_nm  import_flg  tot_amt  dis_amt  \\\n",
       "0   수입종합화장품   화장품    명품잡화   잡화가용팀      화장품           1    90000     9000   \n",
       "1   수입종합화장품   화장품    명품잡화   잡화가용팀      화장품           1    39000     3900   \n",
       "2   수입종합화장품   화장품    잡화파트   잡화가용팀      화장품           1   175000    17500   \n",
       "3      수입의류  명품토탈    잡화파트   잡화가용팀     수입명품           1   455000    45500   \n",
       "4   수입종합화장품   화장품    명품잡화   잡화가용팀      화장품           0   100000    10000   \n",
       "\n",
       "   net_amt  inst_mon  inst_fee  \n",
       "0    81000         3         0  \n",
       "1    35100         1         0  \n",
       "2   157500         3         0  \n",
       "3   409500         3         0  \n",
       "4    90000         3         0  "
      ]
     },
     "execution_count": 8,
     "metadata": {},
     "output_type": "execute_result"
    }
   ],
   "source": [
    "train.head()"
   ]
  },
  {
   "cell_type": "code",
   "execution_count": 4,
   "metadata": {},
   "outputs": [],
   "source": [
    "# sales date - 월, 요일, 주중/주말 특성 추가\n",
    "data['sales_date'] = pd.to_datetime(data['sales_date'], format='%Y-%m-%d')\n",
    "data['month'] = data['sales_date'].dt.month\n",
    "data['weekday'] = data['sales_date'].dt.dayofweek\n",
    "data['weekend'] = data['weekday'].apply(lambda x: 1 if (x==5 or x==6) else 0)\n",
    "\n",
    "# sales time - 아침/ 낮/ 밤 구매 나누기\n",
    "data['sales_time'] = data['sales_time'].apply(lambda x: int(str(x)[:2]) if len(str(x)) == 4 else int(str(x)[:1]))\n",
    "data['sales_time_cat'] = data['sales_time'].apply(lambda x: 'mrn_sales' if (9 <= x <= 12) else ('aftn_sales' if (13 <= x <= 18) else 'knt_sales'))\n",
    "\n",
    "# dis_amt - 할인율 특성 추가\n",
    "data['dis_rate'] = data['dis_amt']/data['tot_amt']"
   ]
  },
  {
   "cell_type": "code",
   "execution_count": 5,
   "metadata": {},
   "outputs": [],
   "source": [
    "# feautures 만들기\n",
    "\n",
    "# 시간별 구매 횟수\n",
    "freq_per_time = pd.pivot_table(index='custid',columns='sales_time',values='tot_amt',aggfunc=np.size, fill_value=0, data=data.query(\"tot_amt>0\")[['custid','sales_time','tot_amt']]).reset_index()\n",
    "\n",
    "# 퇴근전/후 구매 빈도, 비율\n",
    "def get_off_work(x):\n",
    "    if 9<=x<=17:\n",
    "        return('bf_work')\n",
    "    else:\n",
    "        return('af_work')\n",
    "    \n",
    "data['sales_type'] = data['sales_time'].map(get_off_work)\n",
    "sales_type = pd.pivot_table(index='custid',columns='sales_type',values='tot_amt',aggfunc=np.size, fill_value=0,data = data.query('tot_amt>0')[['custid','sales_type','tot_amt']]).reset_index()\n",
    "\n",
    "features = pd.merge(freq_per_time, sales_type, on = 'custid')\n",
    "\n",
    "features['af_work_rate'] = features['af_work']/(features['af_work'] + features['bf_work'])\n",
    "features['bf_work_rate'] = features['bf_work']/(features['af_work'] + features['bf_work'])\n",
    "\n",
    "# 아침구매/ 낮구매/ 밤구매\n",
    "freq_sales_cat = pd.pivot_table(index='custid',columns='sales_time_cat',values='tot_amt',aggfunc=np.size, fill_value=0, data=data.query(\"tot_amt>0\")[['custid','sales_time_cat','tot_amt']]).reset_index()\n",
    "features = pd.merge(features, freq_sales_cat,on='custid')\n",
    "\n",
    "# 구매 빈도 특성 추가\n",
    "features['sales_freq'] = data.groupby('custid')['sales_date'].count()\n",
    "\n",
    "# 주말 구매 비율\n",
    "features['wd_sales_rate'] = data.groupby('custid')['weekend'].sum()/features['sales_freq']\n",
    "\n",
    "# 자주 가는 월 평균\n",
    "features['month_mean'] = data.groupby('custid')['month'].mean()\n",
    "\n",
    "# 총, 최대, 최소, 평균 구매액\n",
    "features['tot_sales_amt'] = data.groupby('custid')['net_amt'].sum()\n",
    "features['max_amt'] = data.groupby('custid')['net_amt'].max()\n",
    "features['min_amt'] = data.groupby('custid')['net_amt'].min()\n",
    "features['mean_amt'] = round(data.groupby('custid')['net_amt'].mean(),2)\n",
    "\n",
    "# 총 할인금액\n",
    "features['tot_dis_amt'] = data.groupby('custid')['dis_amt'].sum()\n",
    "\n",
    "# 최대, 평균 할인율\n",
    "features['max_dis'] = data.groupby('custid')['dis_rate'].max()\n",
    "features['mean_dis'] = data.groupby('custid')['dis_rate'].mean()\n",
    "\n",
    "# 할인 받은 빈도, 비율\n",
    "features['dis_freq'] = data.query(\"dis_rate>0\").groupby('custid')['dis_rate'].count()\n",
    "features['dis_freq_rate'] = features['dis_freq']/features['sales_freq']\n",
    "\n",
    "# 환불 받은 빈도, 비율\n",
    "refund_freq = data.query(\"tot_amt<0\").groupby('custid')['tot_amt'].agg([('refund_freq','count')])\n",
    "features = pd.merge(features, refund_freq, how='left',on='custid').fillna(0)\n",
    "features['refund_freq_rate'] = features['refund_freq']/features['sales_freq']\n",
    "\n",
    "# 할부 빈도, 비율/ 평균 할부개월\n",
    "inst_ft = data.query(\"inst_mon != 1\").groupby('custid')['inst_mon'].agg([('inst_freq','count'),('inst_avg','mean')])\n",
    "features = pd.merge(features, inst_ft, how='left',on = 'custid').fillna(0)\n",
    "features['inst_freq_rate'] = features['inst_freq']/features['sales_freq']"
   ]
  },
  {
   "cell_type": "code",
   "execution_count": 6,
   "metadata": {},
   "outputs": [
    {
     "name": "stderr",
     "output_type": "stream",
     "text": [
      "C:\\anaconda3\\lib\\site-packages\\ipykernel_launcher.py:7: TqdmDeprecationWarning: This function will be removed in tqdm==5.0.0\n",
      "Please use `tqdm.notebook.tqdm` instead of `tqdm.tqdm_notebook`\n",
      "  import sys\n"
     ]
    },
    {
     "data": {
      "application/vnd.jupyter.widget-view+json": {
       "model_id": "d3ab68ebe9d34470981d6e3c713bdba4",
       "version_major": 2,
       "version_minor": 0
      },
      "text/plain": [
       "HBox(children=(FloatProgress(value=0.0, max=30000.0), HTML(value='')))"
      ]
     },
     "metadata": {},
     "output_type": "display_data"
    },
    {
     "name": "stdout",
     "output_type": "stream",
     "text": [
      "\n"
     ]
    }
   ],
   "source": [
    "# 자주가는 지점\n",
    "data['str_nm'] = data['str_nm'].apply(lambda x: 'mu' if x=='무역점' else('bon' if x=='본점' else('cheon' if x=='천호점' else 'sin')))\n",
    "\n",
    "f = data.groupby(['custid','str_nm'])['str_nm'].agg([('str_freq','count')]).reset_index()\n",
    "\n",
    "lst = []\n",
    "for i in tqdm_notebook(f['custid'].unique()) : \n",
    "    f2 = f.query(\"custid == @i\")\n",
    "    lst.append(f2.sort_values(by='str_freq',ascending=False)['str_nm'].iloc[0])\n",
    "\n",
    "features['str_freq'] = lst\n",
    "features = pd.get_dummies(features, 'str_freq')"
   ]
  },
  {
   "cell_type": "code",
   "execution_count": 7,
   "metadata": {},
   "outputs": [],
   "source": [
    "# 선호 브랜드\n",
    "df = pd.merge(train, y_train, on='custid')\n",
    "wo_prefer_brd = df.query(\"gender==0\").brd_nm.value_counts().index[2:12].tolist()\n",
    "ma_prefer_brd = df.query(\"gender==1\").brd_nm.value_counts().index[2:12].tolist()"
   ]
  },
  {
   "cell_type": "code",
   "execution_count": 8,
   "metadata": {},
   "outputs": [],
   "source": [
    "def map_wo_brd(x):\n",
    "    if x == wo_prefer_brd[0]:\n",
    "        x=10\n",
    "    elif x == wo_prefer_brd[1]:\n",
    "        x=9\n",
    "    elif x == wo_prefer_brd[2]:\n",
    "        x=8\n",
    "    elif x == wo_prefer_brd[3]:\n",
    "        x=7\n",
    "    elif x == wo_prefer_brd[4]:\n",
    "        x=6\n",
    "    elif x == wo_prefer_brd[5]:\n",
    "        x=5\n",
    "    elif x == wo_prefer_brd[6]:\n",
    "        x=4\n",
    "    elif x == wo_prefer_brd[7]:\n",
    "        x=3\n",
    "    elif x == wo_prefer_brd[8]:\n",
    "        x=2\n",
    "    elif x == wo_prefer_brd[9]:\n",
    "        x=1\n",
    "    else:\n",
    "        x=0\n",
    "    \n",
    "    return x"
   ]
  },
  {
   "cell_type": "code",
   "execution_count": 9,
   "metadata": {},
   "outputs": [],
   "source": [
    "def map_ma_brd(x):\n",
    "    if x == ma_prefer_brd[0]:\n",
    "        x=10\n",
    "    elif x == ma_prefer_brd[1]:\n",
    "        x=9\n",
    "    elif x == ma_prefer_brd[2]:\n",
    "        x=8\n",
    "    elif x == ma_prefer_brd[3]:\n",
    "        x=7\n",
    "    elif x == ma_prefer_brd[4]:\n",
    "        x=6\n",
    "    elif x == ma_prefer_brd[5]:\n",
    "        x=5\n",
    "    elif x == ma_prefer_brd[6]:\n",
    "        x=4\n",
    "    elif x == ma_prefer_brd[7]:\n",
    "        x=3\n",
    "    elif x == ma_prefer_brd[8]:\n",
    "        x=2\n",
    "    elif x == ma_prefer_brd[9]:\n",
    "        x=1\n",
    "    else:\n",
    "        x=0\n",
    "    \n",
    "    return x"
   ]
  },
  {
   "cell_type": "code",
   "execution_count": 10,
   "metadata": {},
   "outputs": [],
   "source": [
    "data['wo_brd_point'] = data['brd_nm'].apply(map_wo_brd)\n",
    "data['ma_brd_point'] = data['brd_nm'].apply(map_ma_brd)\n",
    "\n",
    "features['wo_brd_point'] = data.groupby('custid')['wo_brd_point'].mean()\n",
    "features['ma_brd_point'] = data.groupby('custid')['ma_brd_point'].mean()"
   ]
  },
  {
   "cell_type": "code",
   "execution_count": 11,
   "metadata": {},
   "outputs": [],
   "source": [
    "# 각 성별별 인기있는 상위 10개 제품의 구성비를 고객별로 평균냄\n",
    "lst = df.query(\"gender==0\").goodcd.value_counts().index[:10]\n",
    "value_list = []\n",
    "\n",
    "for i in range(10):\n",
    "    a = lst[i]\n",
    "    part = df.query(\"gender==0\")[df.query(\"gender==0\").goodcd == a].shape[0]\n",
    "    total = df.query(\"gender==0\").shape[0]\n",
    "    value = round(part/ total,5)\n",
    "    value_list.append(value)\n",
    "\n",
    "value_array = np.array(value_list)\n",
    "df1 = pd.DataFrame({'goodcd':lst, 'value_wo':value_array})\n",
    "data = pd.merge(data, df1, how='left', on='goodcd')\n",
    "data.fillna(9999, inplace=True)\n",
    "features['value_wo'] = data.groupby('custid')['value_wo'].mean()"
   ]
  },
  {
   "cell_type": "code",
   "execution_count": 12,
   "metadata": {},
   "outputs": [],
   "source": [
    "lst = df.query(\"gender==1\").goodcd.value_counts().index[:10]\n",
    "value_list = []\n",
    "\n",
    "for i in range(10):\n",
    "    a = lst[i]\n",
    "    part = df.query(\"gender==1\")[df.query(\"gender==1\").goodcd == a].shape[0]\n",
    "    total = df.query(\"gender==1\").shape[0]\n",
    "    value = round(part/ total,5)\n",
    "    value_list.append(value)\n",
    "\n",
    "value_array = np.array(value_list)\n",
    "df2 = pd.DataFrame({'goodcd':lst, 'value_ma':value_array})\n",
    "data = pd.merge(data, df2, how='left', on='goodcd')\n",
    "data.fillna(9999, inplace=True)\n",
    "features['value_ma'] = data.groupby('custid')['value_ma'].mean()"
   ]
  },
  {
   "cell_type": "code",
   "execution_count": 13,
   "metadata": {},
   "outputs": [],
   "source": [
    "# part_nm 피쳐에 '여성/ 남성'이 들어간 컬럼 \n",
    "data['include_wo_part'] = data['part_nm'].str.contains('여성').astype(int)\n",
    "data['include_ma_part'] = data['part_nm'].str.contains('남성').astype(int)\n",
    "\n",
    "features['ft_wo_part'] = data.groupby('custid')['include_wo_part'].sum()\n",
    "features['ft_ma_part'] = data.groupby('custid')['include_ma_part'].sum()"
   ]
  },
  {
   "cell_type": "code",
   "execution_count": 14,
   "metadata": {},
   "outputs": [],
   "source": [
    "# pc_nm 피쳐에 '여성/ 남성'이 들어간 컬럼 \n",
    "data['include_wo_pc'] = data['pc_nm'].str.contains('여성').astype(int)\n",
    "data['include_ma_pc'] = data['pc_nm'].str.contains('남성').astype(int)\n",
    "\n",
    "features['ft_wo_pc'] = data.groupby('custid')['include_wo_pc'].sum()\n",
    "features['ft_ma_pc'] = data.groupby('custid')['include_ma_pc'].sum()"
   ]
  },
  {
   "cell_type": "code",
   "execution_count": 15,
   "metadata": {},
   "outputs": [],
   "source": [
    "# corner_nm 피쳐에 '여성/ 남성'이 들어간 컬럼 \n",
    "data['include_wo_cor'] = data['corner_nm'].str.contains('여성').astype(int)\n",
    "data['include_ma_cor'] = data['corner_nm'].str.contains('남성').astype(int)\n",
    "\n",
    "features['ft_wo_cor'] = data.groupby('custid')['include_wo_cor'].sum()\n",
    "features['ft_ma_cor'] = data.groupby('custid')['include_ma_cor'].sum()"
   ]
  },
  {
   "cell_type": "code",
   "execution_count": 16,
   "metadata": {},
   "outputs": [],
   "source": [
    "# 세 가지 특성을 평균\n",
    "features['ft_wo'] = (features['ft_wo_part'] + features['ft_wo_pc'] + features['ft_wo_cor'])/3\n",
    "features['ft_ma'] = (features['ft_ma_part'] + features['ft_ma_pc'] + features['ft_ma_cor'])/3"
   ]
  },
  {
   "cell_type": "code",
   "execution_count": 17,
   "metadata": {},
   "outputs": [],
   "source": [
    "features.drop(['ft_wo_part','ft_ma_part','ft_wo_pc','ft_ma_pc','ft_wo_cor','ft_ma_cor'], axis=1, inplace=True)"
   ]
  },
  {
   "cell_type": "code",
   "execution_count": 18,
   "metadata": {},
   "outputs": [],
   "source": [
    "# 물품 특성, lgb를 위해 한글 컬럼명 변경\n",
    "data['buyer_nm'] = data['buyer_nm'].str.replace('행사장.*','행사장')\n",
    "data['buyer_nm'] = data['buyer_nm'].str.replace('피혁A','피혁')\n",
    "data['buyer_nm'] = data['buyer_nm'].str.replace('피혁B','피혁')\n",
    "\n",
    "data['buyer_nm'] = data['buyer_nm'].map({'화장품':'a', '수입명품':'b', '캐릭터캐주얼':'c', '트래디셔널캐주얼':'d', '유아동복':'e', '니트단품':'f', '영캐주얼':'g',\n",
    "       '엘레강스캐주얼':'h', '가전':'i', '섬유':'j', '장신구':'k', '조리욕실':'l', '스포츠':'m', '침구수예':'n', '피혁':'o', '일반식품':'p',\n",
    "       '유니캐주얼':'q', '정장셔츠':'r', '디자이너부띠끄':'s', '문화완구':'t', '타운모피':'u', '조리식품':'v', '기타바이어':'w',\n",
    "       '도자기크리스탈':'x', '가구':'y', '생활용품':'z', '행사장':'aa', '청과곡물':'bb', '점외':'cc'})\n",
    "\n",
    "buyer = pd.pivot_table(index='custid',columns='buyer_nm',values='tot_amt',aggfunc=np.size,fill_value=0,data=data.query(\"tot_amt>0\")[['custid','buyer_nm','tot_amt']]).reset_index()\n",
    "features = pd.merge(features, buyer, on='custid')"
   ]
  },
  {
   "cell_type": "code",
   "execution_count": 19,
   "metadata": {},
   "outputs": [],
   "source": [
    "# 데이터 분할\n",
    "X_train = pd.DataFrame({'custid':train['custid'].unique()})\n",
    "X_train = pd.merge(X_train, features, how='left',on='custid')\n",
    "\n",
    "y_train = y_train['gender']\n",
    "\n",
    "X_test = pd.DataFrame({'custid':test['custid'].unique()})\n",
    "X_test = pd.merge(X_test, features, how='left',on='custid')"
   ]
  },
  {
   "cell_type": "code",
   "execution_count": 30,
   "metadata": {},
   "outputs": [],
   "source": [
    "# 랜덤 포레스트\n",
    "from sklearn.ensemble import RandomForestClassifier\n",
    "\n",
    "rf = RandomForestClassifier(n_estimators= 350,min_samples_split = 2,min_samples_leaf = 5, max_depth=12, random_state=0)\n",
    "rf.fit(X_train,y_train)\n",
    "pred0 = rf.predict_proba(X_test)[:,1]"
   ]
  },
  {
   "cell_type": "code",
   "execution_count": 26,
   "metadata": {},
   "outputs": [],
   "source": [
    "# XGBoost\n",
    "from xgboost import XGBClassifier\n",
    "import sys, warnings\n",
    "if not sys.warnoptions: warnings.simplefilter(\"ignore\")\n",
    "\n",
    "xgb = XGBClassifier(base_score=0.5, booster='gbtree', colsample_bylevel=1,\n",
    "              colsample_bynode=1, colsample_bytree=1, gamma=0,\n",
    "              learning_rate=0.1, max_delta_step=0, max_depth=3,\n",
    "              min_child_weight=1, missing=None, n_estimators=100, n_jobs=-1,\n",
    "              nthread=None, objective='binary:logistic', random_state=0,\n",
    "              reg_alpha=0, reg_lambda=1, scale_pos_weight=1, seed=None,\n",
    "              silent=None, subsample=1, verbosity=1)\n",
    "xgb.fit(X_train, y_train)\n",
    "pred1 = xgb.predict_proba(X_test)[:,1]"
   ]
  },
  {
   "cell_type": "code",
   "execution_count": 27,
   "metadata": {},
   "outputs": [],
   "source": [
    "# LightGBM\n",
    "from lightgbm import LGBMClassifier\n",
    "\n",
    "lgb = LGBMClassifier(boosting_type='gbdt', class_weight=None, colsample_bytree=1.0,\n",
    "        importance_type='split', learning_rate=0.018789800436355142,\n",
    "        max_depth=58, min_child_samples=20, min_child_weight=0.001,\n",
    "        min_split_gain=0.0, n_estimators=394, n_jobs=-1, num_leaves=31,\n",
    "        objective=None, random_state=0, reg_alpha=0.0, reg_lambda=0.0,\n",
    "        silent=True, subsample=0.6120957227224214,\n",
    "        subsample_for_bin=200000, subsample_freq=0)\n",
    "\n",
    "lgb.fit(X_train,y_train)\n",
    "pred2 = lgb.predict_proba(X_test)[:,1]"
   ]
  },
  {
   "cell_type": "code",
   "execution_count": 33,
   "metadata": {},
   "outputs": [],
   "source": [
    "# 일반 가중치 방법\n",
    "pred = 0.3*pred0 + 0.4*pred1 + 0.3*pred2"
   ]
  },
  {
   "cell_type": "code",
   "execution_count": 34,
   "metadata": {},
   "outputs": [
    {
     "name": "stdout",
     "output_type": "stream",
     "text": [
      "'result4.csv' is ready to submit.\n"
     ]
    }
   ],
   "source": [
    "fname = 'result4.csv'\n",
    "submissions = pd.concat([pd.Series(test['custid'].unique(), name=\"custid\"), pd.Series(pred, name=\"gender\")] ,axis=1)\n",
    "submissions.to_csv(fname, index=False)\n",
    "print(\"'{}' is ready to submit.\" .format(fname))"
   ]
  }
 ],
 "metadata": {
  "kernelspec": {
   "display_name": "Python 3",
   "language": "python",
   "name": "python3"
  },
  "language_info": {
   "codemirror_mode": {
    "name": "ipython",
    "version": 3
   },
   "file_extension": ".py",
   "mimetype": "text/x-python",
   "name": "python",
   "nbconvert_exporter": "python",
   "pygments_lexer": "ipython3",
   "version": "3.7.7"
  }
 },
 "nbformat": 4,
 "nbformat_minor": 4
}
